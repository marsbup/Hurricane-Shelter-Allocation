{
 "cells": [
  {
   "cell_type": "markdown",
   "metadata": {},
   "source": [
    "### Import data from ArcMap for New Haven County. Import data prpared by Brett. Change file location if needed"
   ]
  },
  {
   "cell_type": "code",
   "execution_count": 229,
   "metadata": {
    "collapsed": false,
    "nbpresent": {
     "id": "e8f1855f-8add-4ae7-bd95-24eeac0e7fd1"
    }
   },
   "outputs": [],
   "source": [
    "import pandas as pd\n",
    "#shelters in New Haven County obtained in ArcMap.\n",
    "df1=pd.read_csv('/Users/ashrafurraman/Dropbox/NewHavenTown_All_Shelters_updated.csv')\n",
    "#All shelters capacity(j) determined by Brett and slightly modified:\n",
    "df2=pd.read_csv('/Users/ashrafurraman/Dropbox/All_Shelters_updated_for_python.csv')\n",
    "#travel cost from i to j as determined by Brett. Only closest 35 shelters from each centroids are considred\n",
    "df3=pd.read_csv('/Users/ashrafurraman/Dropbox/Cost.csv')\n",
    "# centroids(i) and  their demands for all 9 scenario as determined by Brett\n",
    "df4=pd.read_csv('/Users/ashrafurraman/Dropbox/Demand.csv')\n",
    "# centroids in New Haven county and their demand obtained in AcrMap\n",
    "df5=pd.read_csv('/Users/ashrafurraman/Dropbox/NewHavenCounty_Cat2_affercted_centroids.csv')"
   ]
  },
  {
   "cell_type": "markdown",
   "metadata": {
    "nbpresent": {
     "id": "71fe403d-b1b8-48ec-b86e-dea9099c27c5"
    }
   },
   "source": [
    "### Create new shelter capacity data for all scenario and  export to a .csv file (scenario_capacity_newhaven.csv):"
   ]
  },
  {
   "cell_type": "code",
   "execution_count": 232,
   "metadata": {
    "collapsed": false,
    "nbpresent": {
     "id": "bf9d1c93-9315-421c-b1fe-acc03d7cd41a"
    }
   },
   "outputs": [],
   "source": [
    "NewHaven_capacity = pd.merge(df1,df2, on='New_Shelter_ID')\n",
    "NewHaven_capacity['NewHaven_Shelter_ID'] = pd.factorize(NewHaven_capacity.New_Shelter_ID)[0] + 1\n",
    "NewHaven_capacity['j.s']=NewHaven_capacity['NewHaven_Shelter_ID'].astype(str)+str(\".\")+NewHaven_capacity['Scenario'].astype(str)\n",
    "scenario_capacity_newhaven=pd.DataFrame(NewHaven_capacity[['Shelter_ID', 'New_Shelter_ID','NewHaven_Shelter_ID','Scenario','j.s','Capacity']])\n",
    "scenario_capacity_newhaven.to_csv('scenario_capacity_newhaven.csv')"
   ]
  },
  {
   "cell_type": "markdown",
   "metadata": {
    "nbpresent": {
     "id": "b99ad5f8-cd31-4f22-9896-c2ebc9d91ef7"
    }
   },
   "source": [
    "### Create scenario_demand_newhaven.csv:"
   ]
  },
  {
   "cell_type": "code",
   "execution_count": 253,
   "metadata": {
    "collapsed": true,
    "nbpresent": {
     "id": "c966292d-e283-4417-a2c6-63a409c8bef1"
    }
   },
   "outputs": [],
   "source": [
    "NewHaven_demand= pd.merge(df4,df5, on='ORIG_FID')\n",
    "NewHaven_demand['NewHaven_ORIG_FID']=pd.factorize(NewHaven_demand.ORIG_FID)[0] + 1\n",
    "NewHaven_demand['i.s']=NewHaven_demand['NewHaven_ORIG_FID'].astype(str)+str(\".\")+NewHaven_demand['Scenario'].astype(str)\n",
    "scenario_demand_newhaven=pd.DataFrame(NewHaven_demand[['ORIG_FID','NewHaven_ORIG_FID','Scenario','i.s','Demand']])\n",
    "scenario_demand_newhaven.to_csv('scenario_demand_newhaven.csv')"
   ]
  },
  {
   "cell_type": "markdown",
   "metadata": {
    "collapsed": true,
    "nbpresent": {
     "id": "9b0b6617-395b-4c41-8a01-c9dfc65be705"
    }
   },
   "source": [
    "### Cost from centroids to shelters (travel_cost_newhaven.csv):"
   ]
  },
  {
   "cell_type": "code",
   "execution_count": 279,
   "metadata": {
    "collapsed": true,
    "nbpresent": {
     "id": "8d8ceca1-3de6-481e-9854-a10472463fdd"
    }
   },
   "outputs": [],
   "source": [
    "df_new=pd.merge(df3, NewHaven_demand, on='ORIG_FID',how='inner')\n",
    "df_new['ORIG_FID.New_Shelter_ID']=df_new['ORIG_FID'].astype(str)+str(\".\")+df_new['New_Shelter_ID'].astype(str)\n",
    "df_new1=df_new.drop_duplicates(subset='ORIG_FID.New_Shelter_ID')\n",
    "df_new2=pd.merge(df_new1,NewHaven_capacity, on='New_Shelter_ID')\n",
    "df_new3=df_new2.drop_duplicates(subset='ORIG_FID.New_Shelter_ID')\n",
    "df_new3['cost(i.j)']=df_new3['NewHaven_ORIG_FID'].astype(str)+str(\".\")+df_new3['NewHaven_Shelter_ID'].astype(str) \n",
    "cost=pd.DataFrame(df_new3[['ORIG_FID','New_Shelter_ID','NewHaven_ORIG_FID','NewHaven_Shelter_ID','cost(i.j)','Cost']])\n",
    "travel_cost_newhaven=cost.drop_duplicates(subset='cost(i.j)')\n",
    "travel_cost_newhaven.to_csv('travel_cost_newhaven.csv',  index=False)"
   ]
  },
  {
   "cell_type": "markdown",
   "metadata": {
    "nbpresent": {
     "id": "927c4547-d1ce-434c-b50c-9f9c29b998cd"
    }
   },
   "source": [
    "### Shelter Operating Cost (Scenario_operating_cost_newhaven.csv)"
   ]
  },
  {
   "cell_type": "code",
   "execution_count": 222,
   "metadata": {
    "collapsed": true,
    "nbpresent": {
     "id": "b2aab92e-3341-4c7a-89cd-248fe7c088f6"
    }
   },
   "outputs": [],
   "source": [
    "df6=pd.read_csv('/Users/ashrafurraman/Dropbox/Shelter_Operating_Cost.csv')\n",
    "df6_new=pd.merge(df6,NewHaven_capacity, on='New_Shelter_ID')\n",
    "Scenario_operating_cost_newhaven=df6_new.drop_duplicates(subset='New_Shelter_ID')[['New_Shelter_ID','NewHaven_Shelter_ID','Operating_Cost']]\n",
    "Scenario_operating_cost_newhaven.to_csv('Scenario_operating_cost_newhaven.csv')\n"
   ]
  }
 ],
 "metadata": {
  "anaconda-cloud": {},
  "kernelspec": {
   "display_name": "Python [default]",
   "language": "python",
   "name": "python2"
  },
  "language_info": {
   "codemirror_mode": {
    "name": "ipython",
    "version": 2
   },
   "file_extension": ".py",
   "mimetype": "text/x-python",
   "name": "python",
   "nbconvert_exporter": "python",
   "pygments_lexer": "ipython2",
   "version": "2.7.12"
  },
  "nbpresent": {
   "slides": {
    "018ba1af-b689-4545-8730-5abec16d6264": {
     "id": "018ba1af-b689-4545-8730-5abec16d6264",
     "prev": "6cc111a1-d195-45dc-b5c5-837a3fc04d0a",
     "regions": {
      "ccdd05b4-60d7-4a6c-93a5-5cf3c3242da1": {
       "attrs": {
        "height": 0.8,
        "width": 0.8,
        "x": 0.1,
        "y": 0.1
       },
       "content": {
        "cell": "234344f3-dd2d-42e8-b471-1c7b741817b9",
        "part": "whole"
       },
       "id": "ccdd05b4-60d7-4a6c-93a5-5cf3c3242da1"
      }
     }
    },
    "0283b465-0482-483b-972f-29d37d0dc5ec": {
     "id": "0283b465-0482-483b-972f-29d37d0dc5ec",
     "prev": "2372b474-872b-4af7-9032-1d86a43958a1",
     "regions": {
      "d9593425-4cc0-4e75-906e-20120a0d6471": {
       "attrs": {
        "height": 0.8,
        "width": 0.8,
        "x": 0.1,
        "y": 0.1
       },
       "content": {
        "cell": "b5aa4b96-c436-452c-8bfc-6c80aea31e0b",
        "part": "whole"
       },
       "id": "d9593425-4cc0-4e75-906e-20120a0d6471"
      }
     }
    },
    "0496681c-61b8-4776-ae8d-416907f5712e": {
     "id": "0496681c-61b8-4776-ae8d-416907f5712e",
     "prev": "3505eb40-c667-401a-bf0d-667d698854f8",
     "regions": {
      "a497fc4e-f950-4f13-99ea-512fd72e3147": {
       "attrs": {
        "height": 0.8,
        "width": 0.8,
        "x": 0.1,
        "y": 0.1
       },
       "content": {
        "cell": "648d0005-af93-4414-ad76-9e956ff319ec",
        "part": "whole"
       },
       "id": "a497fc4e-f950-4f13-99ea-512fd72e3147"
      }
     }
    },
    "07088c4b-fa0b-4293-9f62-0e7b565426d4": {
     "id": "07088c4b-fa0b-4293-9f62-0e7b565426d4",
     "prev": "6bb7de87-f0dc-444f-a49b-3e697038168e",
     "regions": {
      "43eff5b1-c724-40bd-9e61-3bf36fe5a3b1": {
       "attrs": {
        "height": 0.8,
        "width": 0.8,
        "x": 0.1,
        "y": 0.1
       },
       "content": {
        "cell": "bb31c9ec-3e21-469b-bb19-4fbc611e1603",
        "part": "whole"
       },
       "id": "43eff5b1-c724-40bd-9e61-3bf36fe5a3b1"
      }
     }
    },
    "0804105e-fea2-4cf5-8e0b-6c736d1350b6": {
     "id": "0804105e-fea2-4cf5-8e0b-6c736d1350b6",
     "prev": "018ba1af-b689-4545-8730-5abec16d6264",
     "regions": {
      "39568787-910d-41e1-8433-4a895367b4e7": {
       "attrs": {
        "height": 0.8,
        "width": 0.8,
        "x": 0.1,
        "y": 0.1
       },
       "content": {
        "cell": "b7c3ad1d-2953-43c7-b91e-7795de471021",
        "part": "whole"
       },
       "id": "39568787-910d-41e1-8433-4a895367b4e7"
      }
     }
    },
    "08b971ef-9fe7-4ca3-8ca4-a24788769f30": {
     "id": "08b971ef-9fe7-4ca3-8ca4-a24788769f30",
     "prev": "56ec9826-de5e-4018-8f8d-109d054bd067",
     "regions": {
      "12390232-1955-4344-a75f-126401a1cfc2": {
       "attrs": {
        "height": 0.8,
        "width": 0.8,
        "x": 0.1,
        "y": 0.1
       },
       "content": {
        "cell": "fcc6224e-d3d4-48a5-bc81-a30f8ef3ec8f",
        "part": "whole"
       },
       "id": "12390232-1955-4344-a75f-126401a1cfc2"
      }
     }
    },
    "09012414-f6f4-456e-9a6d-0ee85fadfe5f": {
     "id": "09012414-f6f4-456e-9a6d-0ee85fadfe5f",
     "prev": "9d9cea21-6b4f-4014-b144-6dd9ae070254",
     "regions": {
      "378fde42-0daa-4cc8-9f45-58778c137695": {
       "attrs": {
        "height": 0.8,
        "width": 0.8,
        "x": 0.1,
        "y": 0.1
       },
       "content": {
        "cell": "59ea6cb9-1309-4263-ac43-e7fb9d3cc55a",
        "part": "whole"
       },
       "id": "378fde42-0daa-4cc8-9f45-58778c137695"
      }
     }
    },
    "09f9b62e-1aa6-40ea-94f6-7d771190f06c": {
     "id": "09f9b62e-1aa6-40ea-94f6-7d771190f06c",
     "prev": "d3507c13-e07d-4abe-af24-323d340726cb",
     "regions": {
      "bce2ee12-5421-4703-9c46-1a9c41942407": {
       "attrs": {
        "height": 0.8,
        "width": 0.8,
        "x": 0.1,
        "y": 0.1
       },
       "content": {
        "cell": "d330d064-e608-4ef4-9c36-db6d77d62b5b",
        "part": "whole"
       },
       "id": "bce2ee12-5421-4703-9c46-1a9c41942407"
      }
     }
    },
    "0b37f6a2-a570-47e6-8b0b-4b664881e6c5": {
     "id": "0b37f6a2-a570-47e6-8b0b-4b664881e6c5",
     "prev": "fe030e44-26bd-4af8-ac3a-c5dc243d5192",
     "regions": {
      "f17d3ba3-22ba-4d6a-b967-6f35831c6927": {
       "attrs": {
        "height": 0.8,
        "width": 0.8,
        "x": 0.1,
        "y": 0.1
       },
       "content": {
        "cell": "39f69450-a730-4ed5-a915-316c502e1fa5",
        "part": "whole"
       },
       "id": "f17d3ba3-22ba-4d6a-b967-6f35831c6927"
      }
     }
    },
    "0e2c5d6e-b6d4-41ed-a9bf-59af3f4d6725": {
     "id": "0e2c5d6e-b6d4-41ed-a9bf-59af3f4d6725",
     "prev": "1dfe87c6-1655-446b-a747-6bc9c1e5c9da",
     "regions": {
      "70557e96-1eb5-46a5-932b-aa6279ee358d": {
       "attrs": {
        "height": 0.8,
        "width": 0.8,
        "x": 0.1,
        "y": 0.1
       },
       "content": {
        "cell": "b2aab92e-3341-4c7a-89cd-248fe7c088f6",
        "part": "whole"
       },
       "id": "70557e96-1eb5-46a5-932b-aa6279ee358d"
      }
     }
    },
    "10a8f9a1-3d9a-4a00-8c3d-cff5e1ee611f": {
     "id": "10a8f9a1-3d9a-4a00-8c3d-cff5e1ee611f",
     "prev": "1ebb068c-e94a-4749-beba-f666974eff65",
     "regions": {
      "0c6ae6b5-e927-41fa-bc6e-22d9efd03437": {
       "attrs": {
        "height": 0.8,
        "width": 0.8,
        "x": 0.1,
        "y": 0.1
       },
       "content": {
        "cell": "ab244df4-405a-476d-92cd-e00031c796f1",
        "part": "whole"
       },
       "id": "0c6ae6b5-e927-41fa-bc6e-22d9efd03437"
      }
     }
    },
    "13c8cda8-309e-46c1-8a74-1cd61be1b6db": {
     "id": "13c8cda8-309e-46c1-8a74-1cd61be1b6db",
     "prev": "c7c3219d-92e3-404b-9d62-62e4b6262fa2",
     "regions": {
      "0ae0031d-e52d-4125-869d-85a5d355ed62": {
       "attrs": {
        "height": 0.8,
        "width": 0.8,
        "x": 0.1,
        "y": 0.1
       },
       "content": {
        "cell": "a0176a9f-b9c9-4d5e-b35b-a72d281cd30b",
        "part": "whole"
       },
       "id": "0ae0031d-e52d-4125-869d-85a5d355ed62"
      }
     }
    },
    "1675fd19-6efa-41ab-b065-6f43f4143a84": {
     "id": "1675fd19-6efa-41ab-b065-6f43f4143a84",
     "prev": "563516a2-7933-439f-979c-a6f9510e8114",
     "regions": {
      "c17cce39-f449-4aa1-b099-d412e9d63a47": {
       "attrs": {
        "height": 0.8,
        "width": 0.8,
        "x": 0.1,
        "y": 0.1
       },
       "content": {
        "cell": "05d471fa-c19c-4f6e-9f8c-414741f8f835",
        "part": "whole"
       },
       "id": "c17cce39-f449-4aa1-b099-d412e9d63a47"
      }
     }
    },
    "1ad3aefd-364a-4b8f-b6c9-aed2d38a9d6a": {
     "id": "1ad3aefd-364a-4b8f-b6c9-aed2d38a9d6a",
     "prev": "be1595f0-9111-4841-a679-ec83b0ebe50f",
     "regions": {
      "c2330364-aca9-4206-9c91-6adb6ebcc1a4": {
       "attrs": {
        "height": 0.8,
        "width": 0.8,
        "x": 0.1,
        "y": 0.1
       },
       "content": {
        "cell": "d344dfdb-f66f-416f-87b7-53bcf85e0884",
        "part": "whole"
       },
       "id": "c2330364-aca9-4206-9c91-6adb6ebcc1a4"
      }
     }
    },
    "1c7c8983-8ac5-4478-a0e5-5c59bcf13fbb": {
     "id": "1c7c8983-8ac5-4478-a0e5-5c59bcf13fbb",
     "prev": "92218c33-e509-46ae-8a1b-2b4f94a7388e",
     "regions": {
      "ef09823e-96c8-4fc5-9feb-328a03e52992": {
       "attrs": {
        "height": 0.8,
        "width": 0.8,
        "x": 0.1,
        "y": 0.1
       },
       "content": {
        "cell": "dd350dd8-535e-4b04-b83b-6755f9c4fe79",
        "part": "whole"
       },
       "id": "ef09823e-96c8-4fc5-9feb-328a03e52992"
      }
     }
    },
    "1dfe87c6-1655-446b-a747-6bc9c1e5c9da": {
     "id": "1dfe87c6-1655-446b-a747-6bc9c1e5c9da",
     "prev": "1c7c8983-8ac5-4478-a0e5-5c59bcf13fbb",
     "regions": {
      "4a8f019b-788c-4e0a-a2ac-32e301036782": {
       "attrs": {
        "height": 0.8,
        "width": 0.8,
        "x": 0.1,
        "y": 0.1
       },
       "content": {
        "cell": "927c4547-d1ce-434c-b50c-9f9c29b998cd",
        "part": "whole"
       },
       "id": "4a8f019b-788c-4e0a-a2ac-32e301036782"
      }
     }
    },
    "1ebb068c-e94a-4749-beba-f666974eff65": {
     "id": "1ebb068c-e94a-4749-beba-f666974eff65",
     "prev": "674f70bc-4c93-4884-8290-e6be90b6a9cb",
     "regions": {
      "db1ecd89-5de4-43c7-90bf-fd62383915fb": {
       "attrs": {
        "height": 0.8,
        "width": 0.8,
        "x": 0.1,
        "y": 0.1
       },
       "content": {
        "cell": "e6dc4821-258d-4524-9a97-182a62c1ec1e",
        "part": "whole"
       },
       "id": "db1ecd89-5de4-43c7-90bf-fd62383915fb"
      }
     }
    },
    "22f41f8c-ed94-49ab-8ed9-1c956bcf09de": {
     "id": "22f41f8c-ed94-49ab-8ed9-1c956bcf09de",
     "prev": "c54ea42e-c468-475e-bb54-dc86a2870943",
     "regions": {
      "56dd6b8c-2937-4126-829b-4595aedc0679": {
       "attrs": {
        "height": 0.8,
        "width": 0.8,
        "x": 0.1,
        "y": 0.1
       },
       "content": {
        "cell": "b937bf2c-efc6-4e5d-8b8b-555b75b17985",
        "part": "whole"
       },
       "id": "56dd6b8c-2937-4126-829b-4595aedc0679"
      }
     }
    },
    "2372b474-872b-4af7-9032-1d86a43958a1": {
     "id": "2372b474-872b-4af7-9032-1d86a43958a1",
     "prev": "22f41f8c-ed94-49ab-8ed9-1c956bcf09de",
     "regions": {
      "4e3c391f-4f25-4624-81d5-76e205e17c4e": {
       "attrs": {
        "height": 0.8,
        "width": 0.8,
        "x": 0.1,
        "y": 0.1
       },
       "content": {
        "cell": "fda21d6f-cc94-452a-9368-4e5a1ff43dd0",
        "part": "whole"
       },
       "id": "4e3c391f-4f25-4624-81d5-76e205e17c4e"
      }
     }
    },
    "23f086df-18b9-4011-8f15-77b8624a42e8": {
     "id": "23f086df-18b9-4011-8f15-77b8624a42e8",
     "prev": "9ce50ec2-fcd8-40be-8914-3933e00f4c8e",
     "regions": {
      "6e1622a8-a867-441c-b26a-975a8ab801f8": {
       "attrs": {
        "height": 0.8,
        "width": 0.8,
        "x": 0.1,
        "y": 0.1
       },
       "content": {
        "cell": "4a09e882-620f-4eab-8f7d-7a5ca3a6268e",
        "part": "whole"
       },
       "id": "6e1622a8-a867-441c-b26a-975a8ab801f8"
      }
     }
    },
    "24adc004-931a-434d-96db-1918987276b6": {
     "id": "24adc004-931a-434d-96db-1918987276b6",
     "prev": "3ace16ec-c5b2-44d7-ad5f-c137ecf64f65",
     "regions": {
      "2a21b16d-de7c-4d1c-a1a7-2fad62048fa5": {
       "attrs": {
        "height": 0.8,
        "width": 0.8,
        "x": 0.1,
        "y": 0.1
       },
       "content": {
        "cell": "50ac75f2-f238-4b9f-ad01-dc62a2718277",
        "part": "whole"
       },
       "id": "2a21b16d-de7c-4d1c-a1a7-2fad62048fa5"
      }
     }
    },
    "2ae86c40-cc74-4f84-bbf9-7fd62951e5d5": {
     "id": "2ae86c40-cc74-4f84-bbf9-7fd62951e5d5",
     "prev": "64feb5cd-3adc-4c45-b4dd-f4b0aff804cf",
     "regions": {
      "00d396f0-d112-48c6-a47b-1b449a171409": {
       "attrs": {
        "height": 0.8,
        "width": 0.8,
        "x": 0.1,
        "y": 0.1
       },
       "content": {
        "cell": "500d7499-8d53-4d42-8a0e-aa446730d414",
        "part": "whole"
       },
       "id": "00d396f0-d112-48c6-a47b-1b449a171409"
      }
     }
    },
    "2c6e1504-08ce-4f3e-adde-3e83f7f7923f": {
     "id": "2c6e1504-08ce-4f3e-adde-3e83f7f7923f",
     "prev": "b22b3cdf-96e3-48bd-a404-653ca8cbb97b",
     "regions": {
      "7e07919b-c71e-4ae9-a5fe-13b4ebc62694": {
       "attrs": {
        "height": 0.8,
        "width": 0.8,
        "x": 0.1,
        "y": 0.1
       },
       "content": {
        "cell": "b6879cf5-8a6d-46bc-8ed7-3a54081ca77c",
        "part": "whole"
       },
       "id": "7e07919b-c71e-4ae9-a5fe-13b4ebc62694"
      }
     }
    },
    "2d683115-a436-4f6f-8c4d-db357cd02840": {
     "id": "2d683115-a436-4f6f-8c4d-db357cd02840",
     "prev": "8fd5f6b8-f72a-4adc-9dc1-1aac4e0508dc",
     "regions": {
      "f741efc8-c777-4a9f-866b-32d3191b7132": {
       "attrs": {
        "height": 0.8,
        "width": 0.8,
        "x": 0.1,
        "y": 0.1
       },
       "content": {
        "cell": "0f98fcb0-521a-4ec9-bd58-6dfc84b611ec",
        "part": "whole"
       },
       "id": "f741efc8-c777-4a9f-866b-32d3191b7132"
      }
     }
    },
    "301ef908-106d-4367-af07-a0fa925c7426": {
     "id": "301ef908-106d-4367-af07-a0fa925c7426",
     "prev": "bac5a9c1-1a15-423f-9e88-4dc93fb6a913",
     "regions": {
      "32c4886e-145e-430d-ade5-fe8814d87846": {
       "attrs": {
        "height": 0.8,
        "width": 0.8,
        "x": 0.1,
        "y": 0.1
       },
       "content": {
        "cell": "709542d2-f5e0-45ec-a459-b758fa7c49e3",
        "part": "whole"
       },
       "id": "32c4886e-145e-430d-ade5-fe8814d87846"
      }
     }
    },
    "3171a246-f15c-4b2a-a086-efcf8e3ed856": {
     "id": "3171a246-f15c-4b2a-a086-efcf8e3ed856",
     "prev": "8e9824da-397b-41db-b26b-a65889761c73",
     "regions": {
      "1f029f0c-9a46-4fb9-8fe2-50d2f1b89788": {
       "attrs": {
        "height": 0.8,
        "width": 0.8,
        "x": 0.1,
        "y": 0.1
       },
       "content": {
        "cell": "229b67c6-f79d-4ca9-8eef-15e3f1c9564f",
        "part": "whole"
       },
       "id": "1f029f0c-9a46-4fb9-8fe2-50d2f1b89788"
      }
     }
    },
    "341778c7-5ffa-4171-bbfd-99ad8009955d": {
     "id": "341778c7-5ffa-4171-bbfd-99ad8009955d",
     "prev": "413ac07a-77b5-46ac-b1e5-df746249e765",
     "regions": {
      "173072f9-c492-4b0a-bd20-695df7274503": {
       "attrs": {
        "height": 0.8,
        "width": 0.8,
        "x": 0.1,
        "y": 0.1
       },
       "content": {
        "cell": "21f5d9b9-09ee-404d-95f0-3fdc6d673c36",
        "part": "whole"
       },
       "id": "173072f9-c492-4b0a-bd20-695df7274503"
      }
     }
    },
    "3505eb40-c667-401a-bf0d-667d698854f8": {
     "id": "3505eb40-c667-401a-bf0d-667d698854f8",
     "prev": "afcab110-9f44-49e5-85bb-c00906ff78af",
     "regions": {
      "caa6f258-abb2-4ccc-be0f-4f0cd6ef42a2": {
       "attrs": {
        "height": 0.8,
        "width": 0.8,
        "x": 0.1,
        "y": 0.1
       },
       "content": {
        "cell": "bbe37561-3d2b-4083-9565-d48d30f19c5b",
        "part": "whole"
       },
       "id": "caa6f258-abb2-4ccc-be0f-4f0cd6ef42a2"
      }
     }
    },
    "3ace16ec-c5b2-44d7-ad5f-c137ecf64f65": {
     "id": "3ace16ec-c5b2-44d7-ad5f-c137ecf64f65",
     "prev": "79117496-c562-4418-8fbc-74699f245b06",
     "regions": {
      "a7f9ff0d-0bc6-4436-b61b-2a78590f95bf": {
       "attrs": {
        "height": 0.8,
        "width": 0.8,
        "x": 0.1,
        "y": 0.1
       },
       "content": {
        "cell": "8d8ceca1-3de6-481e-9854-a10472463fdd",
        "part": "whole"
       },
       "id": "a7f9ff0d-0bc6-4436-b61b-2a78590f95bf"
      }
     }
    },
    "3bcae8a2-f576-41a9-af0a-1a3649512882": {
     "id": "3bcae8a2-f576-41a9-af0a-1a3649512882",
     "prev": "baba6113-6e91-4aed-9742-a385a25119c0",
     "regions": {
      "1c11a16e-713e-4fd5-b071-0ce0ae131425": {
       "attrs": {
        "height": 0.8,
        "width": 0.8,
        "x": 0.1,
        "y": 0.1
       },
       "content": {
        "cell": "7313f7a0-2147-4e25-acc3-bb8b1f05e620",
        "part": "whole"
       },
       "id": "1c11a16e-713e-4fd5-b071-0ce0ae131425"
      }
     }
    },
    "3d392acb-8081-4591-ae80-aa6ae28930b1": {
     "id": "3d392acb-8081-4591-ae80-aa6ae28930b1",
     "prev": "400edbd0-d2e2-4b17-b74a-3bcba3aa9f92",
     "regions": {
      "0b564096-199b-42fb-adab-31347955d454": {
       "attrs": {
        "height": 0.8,
        "width": 0.8,
        "x": 0.1,
        "y": 0.1
       },
       "content": {
        "cell": "9699875f-7da1-4efe-a7eb-0732332de14c",
        "part": "whole"
       },
       "id": "0b564096-199b-42fb-adab-31347955d454"
      }
     }
    },
    "3db39846-0b06-4e2c-84bd-718e3982f0b4": {
     "id": "3db39846-0b06-4e2c-84bd-718e3982f0b4",
     "prev": "2ae86c40-cc74-4f84-bbf9-7fd62951e5d5",
     "regions": {
      "b64398d2-d43e-4d3b-a7a0-30c22af40576": {
       "attrs": {
        "height": 0.8,
        "width": 0.8,
        "x": 0.1,
        "y": 0.1
       },
       "content": {
        "cell": "84f96fbf-3605-4c0a-8b48-7b71367f3b38",
        "part": "whole"
       },
       "id": "b64398d2-d43e-4d3b-a7a0-30c22af40576"
      }
     }
    },
    "3f466371-1e1e-45bf-aef0-a9162789275b": {
     "id": "3f466371-1e1e-45bf-aef0-a9162789275b",
     "prev": "1ad3aefd-364a-4b8f-b6c9-aed2d38a9d6a",
     "regions": {
      "e59cec30-cece-4d19-99a7-738cb94aacce": {
       "attrs": {
        "height": 0.8,
        "width": 0.8,
        "x": 0.1,
        "y": 0.1
       },
       "content": {
        "cell": "4468d70f-11cb-4814-b430-e0692319fec1",
        "part": "whole"
       },
       "id": "e59cec30-cece-4d19-99a7-738cb94aacce"
      }
     }
    },
    "400edbd0-d2e2-4b17-b74a-3bcba3aa9f92": {
     "id": "400edbd0-d2e2-4b17-b74a-3bcba3aa9f92",
     "prev": "07088c4b-fa0b-4293-9f62-0e7b565426d4",
     "regions": {
      "f5e728a2-cb7b-4416-b647-d4bf7bfd8343": {
       "attrs": {
        "height": 0.8,
        "width": 0.8,
        "x": 0.1,
        "y": 0.1
       },
       "content": {
        "cell": "011276ab-5f80-4ce8-a4bd-13b7d259c2dd",
        "part": "whole"
       },
       "id": "f5e728a2-cb7b-4416-b647-d4bf7bfd8343"
      }
     }
    },
    "40b81be1-2120-4422-8916-36751ff3ed19": {
     "id": "40b81be1-2120-4422-8916-36751ff3ed19",
     "prev": "78adcdb2-5274-4425-9e3e-73c01373b119",
     "regions": {
      "6975322b-3701-48e8-8c65-7c15d02fecf3": {
       "attrs": {
        "height": 0.8,
        "width": 0.8,
        "x": 0.1,
        "y": 0.1
       },
       "content": {
        "cell": "93da2a58-86d8-4a89-9c20-96e0dcb57cde",
        "part": "whole"
       },
       "id": "6975322b-3701-48e8-8c65-7c15d02fecf3"
      }
     }
    },
    "413ac07a-77b5-46ac-b1e5-df746249e765": {
     "id": "413ac07a-77b5-46ac-b1e5-df746249e765",
     "prev": "a77deb26-b532-4e55-9820-77553872d0dd",
     "regions": {
      "1942e956-1c88-41b7-941d-55b606c36246": {
       "attrs": {
        "height": 0.8,
        "width": 0.8,
        "x": 0.1,
        "y": 0.1
       },
       "content": {
        "cell": "f60139a9-c526-4b78-844f-f5a8892b6ee0",
        "part": "whole"
       },
       "id": "1942e956-1c88-41b7-941d-55b606c36246"
      }
     }
    },
    "46d2ce59-2d50-480c-9325-7c6281415f95": {
     "id": "46d2ce59-2d50-480c-9325-7c6281415f95",
     "prev": "a63105c7-28d1-491a-bd03-edd967a09b66",
     "regions": {
      "49fb217a-8dde-4d4c-8b1d-fae0eb11c0f9": {
       "attrs": {
        "height": 0.8,
        "width": 0.8,
        "x": 0.1,
        "y": 0.1
       },
       "content": {
        "cell": "e90fb9eb-3750-4fd7-a64e-4072a55c42d7",
        "part": "whole"
       },
       "id": "49fb217a-8dde-4d4c-8b1d-fae0eb11c0f9"
      }
     }
    },
    "47d19658-cac9-4f2c-8572-f5666cf5edd9": {
     "id": "47d19658-cac9-4f2c-8572-f5666cf5edd9",
     "prev": "d2fd73bb-1d74-4281-8d5d-85b5b38930d4",
     "regions": {
      "eca36803-4b27-4415-a7a0-e735e0dab23a": {
       "attrs": {
        "height": 0.8,
        "width": 0.8,
        "x": 0.1,
        "y": 0.1
       },
       "content": {
        "cell": "1f5e6803-65ac-4ea4-82a9-89d491e46948",
        "part": "whole"
       },
       "id": "eca36803-4b27-4415-a7a0-e735e0dab23a"
      }
     }
    },
    "4b517487-ebbf-47ee-aa25-0cf1dc3a90d5": {
     "id": "4b517487-ebbf-47ee-aa25-0cf1dc3a90d5",
     "prev": "c7918050-291f-46fd-a558-b89dcee3dbe3",
     "regions": {
      "ecd4a215-0612-4603-8c81-df4908fe0205": {
       "attrs": {
        "height": 0.8,
        "width": 0.8,
        "x": 0.1,
        "y": 0.1
       },
       "content": {
        "cell": "7a6369eb-8462-40a3-af94-4f7971745349",
        "part": "whole"
       },
       "id": "ecd4a215-0612-4603-8c81-df4908fe0205"
      }
     }
    },
    "505039b4-158d-4461-9b60-0887989e5f5a": {
     "id": "505039b4-158d-4461-9b60-0887989e5f5a",
     "prev": "96d5670a-2448-41ed-bd1a-35d85fc81590",
     "regions": {
      "4f6cf51a-a72e-44b0-be97-aea4e16c4e86": {
       "attrs": {
        "height": 0.8,
        "width": 0.8,
        "x": 0.1,
        "y": 0.1
       },
       "content": {
        "cell": "3396cf4b-0c09-4a67-bb13-63a5f487ca29",
        "part": "whole"
       },
       "id": "4f6cf51a-a72e-44b0-be97-aea4e16c4e86"
      }
     }
    },
    "5552e764-2b98-4d92-a9d6-00b0efb53a81": {
     "id": "5552e764-2b98-4d92-a9d6-00b0efb53a81",
     "prev": "24adc004-931a-434d-96db-1918987276b6",
     "regions": {
      "6906314a-03c4-4859-84b3-bd87d6edf798": {
       "attrs": {
        "height": 0.8,
        "width": 0.8,
        "x": 0.1,
        "y": 0.1
       },
       "content": {
        "cell": "155a04d2-0dd5-45c6-9af4-ca21ae6a7436",
        "part": "whole"
       },
       "id": "6906314a-03c4-4859-84b3-bd87d6edf798"
      }
     }
    },
    "563516a2-7933-439f-979c-a6f9510e8114": {
     "id": "563516a2-7933-439f-979c-a6f9510e8114",
     "prev": "d3628273-1318-444c-8fca-10e42223e2b7",
     "regions": {
      "c812d8fe-0bf5-4f2a-b841-db7e32f32bcf": {
       "attrs": {
        "height": 0.8,
        "width": 0.8,
        "x": 0.1,
        "y": 0.1
       },
       "content": {
        "cell": "71ae8347-af17-47f6-9d4b-d058e016ec85",
        "part": "whole"
       },
       "id": "c812d8fe-0bf5-4f2a-b841-db7e32f32bcf"
      }
     }
    },
    "56ec9826-de5e-4018-8f8d-109d054bd067": {
     "id": "56ec9826-de5e-4018-8f8d-109d054bd067",
     "prev": "a4b9a2a5-023f-44e4-b19c-3e6e2a40f696",
     "regions": {
      "1c6fe072-4362-442a-9936-09b781eefd94": {
       "attrs": {
        "height": 0.8,
        "width": 0.8,
        "x": 0.1,
        "y": 0.1
       },
       "content": {
        "cell": "a621ef80-68b2-475e-9daa-e0437b460c04",
        "part": "whole"
       },
       "id": "1c6fe072-4362-442a-9936-09b781eefd94"
      }
     }
    },
    "574cd51d-08ec-4e4d-b07d-3d9f0f1fe2de": {
     "id": "574cd51d-08ec-4e4d-b07d-3d9f0f1fe2de",
     "prev": "09f9b62e-1aa6-40ea-94f6-7d771190f06c",
     "regions": {
      "e14bcbb2-67f1-4eb1-890c-5f746072975b": {
       "attrs": {
        "height": 0.8,
        "width": 0.8,
        "x": 0.1,
        "y": 0.1
       },
       "content": {
        "cell": "5569c1e8-5b85-4be4-8d66-e29f9b865f3c",
        "part": "whole"
       },
       "id": "e14bcbb2-67f1-4eb1-890c-5f746072975b"
      }
     }
    },
    "5759daab-4d12-4c36-8e37-fff54d170110": {
     "id": "5759daab-4d12-4c36-8e37-fff54d170110",
     "prev": "2d683115-a436-4f6f-8c4d-db357cd02840",
     "regions": {
      "849260cb-b3eb-4f1d-b3e4-db974b6c10d3": {
       "attrs": {
        "height": 0.8,
        "width": 0.8,
        "x": 0.1,
        "y": 0.1
       },
       "content": {
        "cell": "fd4b964f-b25a-442c-bebb-c2a896b589d0",
        "part": "whole"
       },
       "id": "849260cb-b3eb-4f1d-b3e4-db974b6c10d3"
      }
     }
    },
    "591657bd-7b70-4954-b3a3-c68eb5d81894": {
     "id": "591657bd-7b70-4954-b3a3-c68eb5d81894",
     "prev": "2c6e1504-08ce-4f3e-adde-3e83f7f7923f",
     "regions": {
      "796ff60b-96d5-47ca-b60d-474f3adc9b59": {
       "attrs": {
        "height": 0.8,
        "width": 0.8,
        "x": 0.1,
        "y": 0.1
       },
       "content": {
        "cell": "8a134f37-d86d-4bdb-9c16-5357f5a91bd6",
        "part": "whole"
       },
       "id": "796ff60b-96d5-47ca-b60d-474f3adc9b59"
      }
     }
    },
    "5a554854-8723-4147-932b-78953f606c04": {
     "id": "5a554854-8723-4147-932b-78953f606c04",
     "prev": "1675fd19-6efa-41ab-b065-6f43f4143a84",
     "regions": {
      "812c776d-1f13-4ce6-88a7-26de65ad10a9": {
       "attrs": {
        "height": 0.8,
        "width": 0.8,
        "x": 0.1,
        "y": 0.1
       },
       "content": {
        "cell": "a4c940d3-19f4-4eb7-935e-150c51c41584",
        "part": "whole"
       },
       "id": "812c776d-1f13-4ce6-88a7-26de65ad10a9"
      }
     }
    },
    "5d101ec4-bdcc-4945-a113-3965164b9225": {
     "id": "5d101ec4-bdcc-4945-a113-3965164b9225",
     "prev": "779fd950-507a-445a-a878-82cbc3420071",
     "regions": {
      "131187e2-1fee-4eba-aea8-22e42cb4fdb5": {
       "attrs": {
        "height": 0.8,
        "width": 0.8,
        "x": 0.1,
        "y": 0.1
       },
       "content": {
        "cell": "bf9d1c93-9315-421c-b1fe-acc03d7cd41a",
        "part": "whole"
       },
       "id": "131187e2-1fee-4eba-aea8-22e42cb4fdb5"
      }
     }
    },
    "5d9f96ae-341f-4f6a-b24a-d0089ef92d11": {
     "id": "5d9f96ae-341f-4f6a-b24a-d0089ef92d11",
     "prev": "889d32bd-5283-4b21-8927-d60912d63a73",
     "regions": {
      "31530a25-2a79-4c8c-b979-0416c17f1a68": {
       "attrs": {
        "height": 0.8,
        "width": 0.8,
        "x": 0.1,
        "y": 0.1
       },
       "content": {
        "cell": "c5b14773-ab56-49fb-a4f8-1ec97bb624be",
        "part": "whole"
       },
       "id": "31530a25-2a79-4c8c-b979-0416c17f1a68"
      }
     }
    },
    "5ec037e9-b17f-4111-adbe-e588470302b4": {
     "id": "5ec037e9-b17f-4111-adbe-e588470302b4",
     "prev": "b4dc6777-7688-456b-89a2-32a10c83d7f0",
     "regions": {
      "b5a91ef1-f070-4eb6-8891-3d8100526751": {
       "attrs": {
        "height": 0.8,
        "width": 0.8,
        "x": 0.1,
        "y": 0.1
       },
       "content": {
        "cell": "7821f38c-2d91-4570-9515-986adc11a6cb",
        "part": "whole"
       },
       "id": "b5a91ef1-f070-4eb6-8891-3d8100526751"
      }
     }
    },
    "63691e01-f0b4-4b5e-aaad-70a0c4b7b999": {
     "id": "63691e01-f0b4-4b5e-aaad-70a0c4b7b999",
     "prev": "09012414-f6f4-456e-9a6d-0ee85fadfe5f",
     "regions": {
      "773d3ac5-4f2c-4e78-b1ac-9f163a6af396": {
       "attrs": {
        "height": 0.8,
        "width": 0.8,
        "x": 0.1,
        "y": 0.1
       },
       "content": {
        "cell": "e3d76cb7-ff89-48dc-adfa-a2bb7a48d341",
        "part": "whole"
       },
       "id": "773d3ac5-4f2c-4e78-b1ac-9f163a6af396"
      }
     }
    },
    "64feb5cd-3adc-4c45-b4dd-f4b0aff804cf": {
     "id": "64feb5cd-3adc-4c45-b4dd-f4b0aff804cf",
     "prev": "aea16efe-7c90-42a2-8d4a-92bd466fcb90",
     "regions": {
      "7bef5ffe-7835-4759-b729-d0217add660b": {
       "attrs": {
        "height": 0.8,
        "width": 0.8,
        "x": 0.1,
        "y": 0.1
       },
       "content": {
        "cell": "00b0fd12-c639-4aae-8f97-1df13a10881f",
        "part": "whole"
       },
       "id": "7bef5ffe-7835-4759-b729-d0217add660b"
      }
     }
    },
    "674f70bc-4c93-4884-8290-e6be90b6a9cb": {
     "id": "674f70bc-4c93-4884-8290-e6be90b6a9cb",
     "prev": "b3fa67d5-f80f-43ec-87cb-942fb88313e2",
     "regions": {
      "0c80eaac-9385-4035-92af-43a1af350601": {
       "attrs": {
        "height": 0.8,
        "width": 0.8,
        "x": 0.1,
        "y": 0.1
       },
       "content": {
        "cell": "1c4439c4-f343-45db-a040-5c044040b47b",
        "part": "whole"
       },
       "id": "0c80eaac-9385-4035-92af-43a1af350601"
      }
     }
    },
    "6add3ec4-95b4-4ee1-90d1-f38eacd0f5ee": {
     "id": "6add3ec4-95b4-4ee1-90d1-f38eacd0f5ee",
     "prev": "f54972ef-af5c-45f0-b490-c1b9669724f9",
     "regions": {
      "30777321-976d-4daf-9296-f5d346e33546": {
       "attrs": {
        "height": 0.8,
        "width": 0.8,
        "x": 0.1,
        "y": 0.1
       },
       "content": {
        "cell": "e14b8496-0a54-4eff-b956-550a234ac97f",
        "part": "whole"
       },
       "id": "30777321-976d-4daf-9296-f5d346e33546"
      }
     }
    },
    "6bb7de87-f0dc-444f-a49b-3e697038168e": {
     "id": "6bb7de87-f0dc-444f-a49b-3e697038168e",
     "prev": "591657bd-7b70-4954-b3a3-c68eb5d81894",
     "regions": {
      "d19cfffd-93af-4de6-8f7d-158d5d446554": {
       "attrs": {
        "height": 0.8,
        "width": 0.8,
        "x": 0.1,
        "y": 0.1
       },
       "content": {
        "cell": "6cb7ae2c-a1eb-4d09-bff0-111299b5a6de",
        "part": "whole"
       },
       "id": "d19cfffd-93af-4de6-8f7d-158d5d446554"
      }
     }
    },
    "6cc111a1-d195-45dc-b5c5-837a3fc04d0a": {
     "id": "6cc111a1-d195-45dc-b5c5-837a3fc04d0a",
     "prev": "a5f5dda4-dec2-46bb-be1a-94a9b38c0b45",
     "regions": {
      "662572e4-6c97-4279-8688-001423f75af4": {
       "attrs": {
        "height": 0.8,
        "width": 0.8,
        "x": 0.1,
        "y": 0.1
       },
       "content": {
        "cell": "a1a94b6a-0b4c-4bc2-a72f-0058832f35f7",
        "part": "whole"
       },
       "id": "662572e4-6c97-4279-8688-001423f75af4"
      }
     }
    },
    "7018bec8-3150-400c-acc3-b25563c4b540": {
     "id": "7018bec8-3150-400c-acc3-b25563c4b540",
     "prev": "0b37f6a2-a570-47e6-8b0b-4b664881e6c5",
     "regions": {
      "503a9458-031e-4dfd-b86b-ca2eafe1aeab": {
       "attrs": {
        "height": 0.8,
        "width": 0.8,
        "x": 0.1,
        "y": 0.1
       },
       "content": {
        "cell": "9ee4b911-5f3d-412c-b280-5c545f0fafe4",
        "part": "whole"
       },
       "id": "503a9458-031e-4dfd-b86b-ca2eafe1aeab"
      }
     }
    },
    "72a28a95-d6a2-4973-9ad0-2617dc136a58": {
     "id": "72a28a95-d6a2-4973-9ad0-2617dc136a58",
     "prev": "7f25709c-21ff-4aa6-8a28-5b82b7bc1ccc",
     "regions": {
      "a9e5cc88-c35a-46a7-985b-66a46c0421b2": {
       "attrs": {
        "height": 0.8,
        "width": 0.8,
        "x": 0.1,
        "y": 0.1
       },
       "content": {
        "cell": "41a870cc-9f0b-4241-9d25-7ce842fb85cc",
        "part": "whole"
       },
       "id": "a9e5cc88-c35a-46a7-985b-66a46c0421b2"
      }
     }
    },
    "779fd950-507a-445a-a878-82cbc3420071": {
     "id": "779fd950-507a-445a-a878-82cbc3420071",
     "prev": "c117733b-6a0d-4519-afe5-040258e4b7eb",
     "regions": {
      "ccefdcad-50fa-4b31-a099-71bdd4bd1414": {
       "attrs": {
        "height": 0.8,
        "width": 0.8,
        "x": 0.1,
        "y": 0.1
       },
       "content": {
        "cell": "71fe403d-b1b8-48ec-b86e-dea9099c27c5",
        "part": "whole"
       },
       "id": "ccefdcad-50fa-4b31-a099-71bdd4bd1414"
      }
     }
    },
    "78adcdb2-5274-4425-9e3e-73c01373b119": {
     "id": "78adcdb2-5274-4425-9e3e-73c01373b119",
     "prev": "cdf8e4ec-c329-4126-9bff-47a74b1c038b",
     "regions": {
      "c46f5489-8eea-4f30-9a7d-3ed53656c908": {
       "attrs": {
        "height": 0.8,
        "width": 0.8,
        "x": 0.1,
        "y": 0.1
       },
       "content": {
        "cell": "5776ca43-9d9b-475c-85f2-c17b8839c1b5",
        "part": "whole"
       },
       "id": "c46f5489-8eea-4f30-9a7d-3ed53656c908"
      }
     }
    },
    "79117496-c562-4418-8fbc-74699f245b06": {
     "id": "79117496-c562-4418-8fbc-74699f245b06",
     "prev": "63691e01-f0b4-4b5e-aaad-70a0c4b7b999",
     "regions": {
      "79aff3d6-291b-4056-ad07-9e39f016f132": {
       "attrs": {
        "height": 0.8,
        "width": 0.8,
        "x": 0.1,
        "y": 0.1
       },
       "content": {
        "cell": "b6a968a7-8d54-42c2-be35-7d1cf5d9dfe8",
        "part": "whole"
       },
       "id": "79aff3d6-291b-4056-ad07-9e39f016f132"
      }
     }
    },
    "7b96365e-5921-40db-bc24-ef8a9d0ade88": {
     "id": "7b96365e-5921-40db-bc24-ef8a9d0ade88",
     "prev": null,
     "regions": {
      "2ce0ea16-a33f-49ee-abd3-9460e98042a3": {
       "attrs": {
        "height": 0.8,
        "width": 0.8,
        "x": 0.1,
        "y": 0.1
       },
       "content": {
        "cell": "5cbefa86-60a5-413f-875c-cdefc77c3ed9",
        "part": "whole"
       },
       "id": "2ce0ea16-a33f-49ee-abd3-9460e98042a3"
      }
     }
    },
    "7f25709c-21ff-4aa6-8a28-5b82b7bc1ccc": {
     "id": "7f25709c-21ff-4aa6-8a28-5b82b7bc1ccc",
     "prev": "98cad519-f995-49d4-bd2d-b3d6b7a91d8b",
     "regions": {
      "bbc37c49-acb5-4164-92c0-13b667f268ed": {
       "attrs": {
        "height": 0.8,
        "width": 0.8,
        "x": 0.1,
        "y": 0.1
       },
       "content": {
        "cell": "c096f212-efd0-486d-8e9b-ca8776b7b23d",
        "part": "whole"
       },
       "id": "bbc37c49-acb5-4164-92c0-13b667f268ed"
      }
     }
    },
    "889d32bd-5283-4b21-8927-d60912d63a73": {
     "id": "889d32bd-5283-4b21-8927-d60912d63a73",
     "prev": "5552e764-2b98-4d92-a9d6-00b0efb53a81",
     "regions": {
      "ef6cdee4-c985-4982-b4fc-9d164b166dcb": {
       "attrs": {
        "height": 0.8,
        "width": 0.8,
        "x": 0.1,
        "y": 0.1
       },
       "content": {
        "cell": "80e6f62b-0d29-457d-96cf-316b22a6c98e",
        "part": "whole"
       },
       "id": "ef6cdee4-c985-4982-b4fc-9d164b166dcb"
      }
     }
    },
    "8c87adb8-c78d-4603-a4fe-e0986d4e5580": {
     "id": "8c87adb8-c78d-4603-a4fe-e0986d4e5580",
     "prev": "0804105e-fea2-4cf5-8e0b-6c736d1350b6",
     "regions": {
      "073935c4-be08-45f4-be0a-4326c572de75": {
       "attrs": {
        "height": 0.8,
        "width": 0.8,
        "x": 0.1,
        "y": 0.1
       },
       "content": {
        "cell": "1d347680-aa7f-4e50-a244-9181297520a3",
        "part": "whole"
       },
       "id": "073935c4-be08-45f4-be0a-4326c572de75"
      }
     }
    },
    "8ddabd13-4dd8-4cd2-a066-bd32d8ff03f4": {
     "id": "8ddabd13-4dd8-4cd2-a066-bd32d8ff03f4",
     "prev": "f9af04b5-a973-433b-8a1f-3cf86cafa2b1",
     "regions": {
      "a2ae1c67-0928-4fcf-8e0d-e31458be03df": {
       "attrs": {
        "height": 0.8,
        "width": 0.8,
        "x": 0.1,
        "y": 0.1
       },
       "content": {
        "cell": "8de4fe83-86e7-4a07-a71b-109d601c68af",
        "part": "whole"
       },
       "id": "a2ae1c67-0928-4fcf-8e0d-e31458be03df"
      }
     }
    },
    "8e9824da-397b-41db-b26b-a65889761c73": {
     "id": "8e9824da-397b-41db-b26b-a65889761c73",
     "prev": "dd13dcc9-c5b0-4e83-ad46-a524b2da312a",
     "regions": {
      "03704bc9-078d-4e1a-acc9-9550484954c5": {
       "attrs": {
        "height": 0.8,
        "width": 0.8,
        "x": 0.1,
        "y": 0.1
       },
       "content": {
        "cell": "6f525a5a-f931-47f6-a8e7-65a9e7c6be2b",
        "part": "whole"
       },
       "id": "03704bc9-078d-4e1a-acc9-9550484954c5"
      }
     }
    },
    "8fd5f6b8-f72a-4adc-9dc1-1aac4e0508dc": {
     "id": "8fd5f6b8-f72a-4adc-9dc1-1aac4e0508dc",
     "prev": "a26f45a3-f087-4adb-a56b-0429ec2a221d",
     "regions": {
      "1a249ba4-5c14-45fb-ad1b-2f3298f5c4e3": {
       "attrs": {
        "height": 0.8,
        "width": 0.8,
        "x": 0.1,
        "y": 0.1
       },
       "content": {
        "cell": "bc933f0e-0dde-4028-b097-407a4ee91f8d",
        "part": "whole"
       },
       "id": "1a249ba4-5c14-45fb-ad1b-2f3298f5c4e3"
      }
     }
    },
    "92218c33-e509-46ae-8a1b-2b4f94a7388e": {
     "id": "92218c33-e509-46ae-8a1b-2b4f94a7388e",
     "prev": "8c87adb8-c78d-4603-a4fe-e0986d4e5580",
     "regions": {
      "f1ffb867-356b-49f1-b508-f62c371ff606": {
       "attrs": {
        "height": 0.8,
        "width": 0.8,
        "x": 0.1,
        "y": 0.1
       },
       "content": {
        "cell": "d50893e9-befe-409a-8c46-1616025aa8bb",
        "part": "whole"
       },
       "id": "f1ffb867-356b-49f1-b508-f62c371ff606"
      }
     }
    },
    "96c674f6-6882-4e7c-b340-e1e8342856bb": {
     "id": "96c674f6-6882-4e7c-b340-e1e8342856bb",
     "prev": "0e2c5d6e-b6d4-41ed-a9bf-59af3f4d6725",
     "regions": {
      "62c383f4-1324-4d8d-a49c-3dc9ca118a4f": {
       "attrs": {
        "height": 0.8,
        "width": 0.8,
        "x": 0.1,
        "y": 0.1
       },
       "content": {
        "cell": "74a4d1a1-9ec5-48cf-ad48-4f79cecd36aa",
        "part": "whole"
       },
       "id": "62c383f4-1324-4d8d-a49c-3dc9ca118a4f"
      }
     }
    },
    "96d5670a-2448-41ed-bd1a-35d85fc81590": {
     "id": "96d5670a-2448-41ed-bd1a-35d85fc81590",
     "prev": "0496681c-61b8-4776-ae8d-416907f5712e",
     "regions": {
      "feacfd2d-9182-4427-b1bc-fef370d1a42d": {
       "attrs": {
        "height": 0.8,
        "width": 0.8,
        "x": 0.1,
        "y": 0.1
       },
       "content": {
        "cell": "a148479d-503b-4425-8007-808dfbdff335",
        "part": "whole"
       },
       "id": "feacfd2d-9182-4427-b1bc-fef370d1a42d"
      }
     }
    },
    "98cad519-f995-49d4-bd2d-b3d6b7a91d8b": {
     "id": "98cad519-f995-49d4-bd2d-b3d6b7a91d8b",
     "prev": "afb04673-17d9-466c-b218-3ec6dea86baf",
     "regions": {
      "5b3c88f8-dc93-452a-825f-d5926a62e6b3": {
       "attrs": {
        "height": 0.8,
        "width": 0.8,
        "x": 0.1,
        "y": 0.1
       },
       "content": {
        "cell": "02b1afc3-6499-4c6c-808c-c49116dd1cca",
        "part": "whole"
       },
       "id": "5b3c88f8-dc93-452a-825f-d5926a62e6b3"
      }
     }
    },
    "9aaa773b-1a54-4f87-b875-2b6aa0bd2fc7": {
     "id": "9aaa773b-1a54-4f87-b875-2b6aa0bd2fc7",
     "prev": "13c8cda8-309e-46c1-8a74-1cd61be1b6db",
     "regions": {
      "4ee91b33-e185-4715-979c-2ff0078432ae": {
       "attrs": {
        "height": 0.8,
        "width": 0.8,
        "x": 0.1,
        "y": 0.1
       },
       "content": {
        "cell": "91412c60-5953-42a4-9f78-5ad5d83293ae",
        "part": "whole"
       },
       "id": "4ee91b33-e185-4715-979c-2ff0078432ae"
      }
     }
    },
    "9b6664a8-fb06-4aed-aefb-45c65637bda4": {
     "id": "9b6664a8-fb06-4aed-aefb-45c65637bda4",
     "prev": "40b81be1-2120-4422-8916-36751ff3ed19",
     "regions": {
      "9f49f30e-f3c7-4cb0-bccf-cd61df8d4bf2": {
       "attrs": {
        "height": 0.8,
        "width": 0.8,
        "x": 0.1,
        "y": 0.1
       },
       "content": {
        "cell": "13c398d2-2709-4486-9027-96684448e239",
        "part": "whole"
       },
       "id": "9f49f30e-f3c7-4cb0-bccf-cd61df8d4bf2"
      }
     }
    },
    "9ce50ec2-fcd8-40be-8914-3933e00f4c8e": {
     "id": "9ce50ec2-fcd8-40be-8914-3933e00f4c8e",
     "prev": "9aaa773b-1a54-4f87-b875-2b6aa0bd2fc7",
     "regions": {
      "227800fb-8af5-4a4d-a501-94177abb7ae8": {
       "attrs": {
        "height": 0.8,
        "width": 0.8,
        "x": 0.1,
        "y": 0.1
       },
       "content": {
        "cell": "2d0c2aba-e7e9-42d7-b487-185572f616ac",
        "part": "whole"
       },
       "id": "227800fb-8af5-4a4d-a501-94177abb7ae8"
      }
     }
    },
    "9d815d11-15e3-43e3-8e60-b4eeb2e95ec1": {
     "id": "9d815d11-15e3-43e3-8e60-b4eeb2e95ec1",
     "prev": "a77a6950-697f-4d54-9196-0af3ef5005ba",
     "regions": {
      "1f778488-e0e8-4100-bdb8-18d831b74c09": {
       "attrs": {
        "height": 0.8,
        "width": 0.8,
        "x": 0.1,
        "y": 0.1
       },
       "content": {
        "cell": "4b40aacb-69d5-4b8d-8066-1b3bab9878e2",
        "part": "whole"
       },
       "id": "1f778488-e0e8-4100-bdb8-18d831b74c09"
      }
     }
    },
    "9d9cea21-6b4f-4014-b144-6dd9ae070254": {
     "id": "9d9cea21-6b4f-4014-b144-6dd9ae070254",
     "prev": "8ddabd13-4dd8-4cd2-a066-bd32d8ff03f4",
     "regions": {
      "8b7811bd-b6c2-4cb0-86d2-9b4cb1205ca8": {
       "attrs": {
        "height": 0.8,
        "width": 0.8,
        "x": 0.1,
        "y": 0.1
       },
       "content": {
        "cell": "9b0b6617-395b-4c41-8a01-c9dfc65be705",
        "part": "whole"
       },
       "id": "8b7811bd-b6c2-4cb0-86d2-9b4cb1205ca8"
      }
     }
    },
    "a0f32018-0131-4b4d-a8a9-7acf5ac6c6dc": {
     "id": "a0f32018-0131-4b4d-a8a9-7acf5ac6c6dc",
     "prev": "c0f672e8-87df-4403-ac91-c559dbb03770",
     "regions": {
      "2c215f50-151f-4cb2-8d4b-e1e9b5235f16": {
       "attrs": {
        "height": 0.8,
        "width": 0.8,
        "x": 0.1,
        "y": 0.1
       },
       "content": {
        "cell": "bef5e9a7-7bb5-4032-ab88-f96b0f7fcb66",
        "part": "whole"
       },
       "id": "2c215f50-151f-4cb2-8d4b-e1e9b5235f16"
      }
     }
    },
    "a26f45a3-f087-4adb-a56b-0429ec2a221d": {
     "id": "a26f45a3-f087-4adb-a56b-0429ec2a221d",
     "prev": "3171a246-f15c-4b2a-a086-efcf8e3ed856",
     "regions": {
      "1075c72d-c098-4a6c-8dbd-6bbbc4c20115": {
       "attrs": {
        "height": 0.8,
        "width": 0.8,
        "x": 0.1,
        "y": 0.1
       },
       "content": {
        "cell": "1ad8e2bb-83fc-4470-84c6-3ac06a509842",
        "part": "whole"
       },
       "id": "1075c72d-c098-4a6c-8dbd-6bbbc4c20115"
      }
     }
    },
    "a4b9a2a5-023f-44e4-b19c-3e6e2a40f696": {
     "id": "a4b9a2a5-023f-44e4-b19c-3e6e2a40f696",
     "prev": "3bcae8a2-f576-41a9-af0a-1a3649512882",
     "regions": {
      "f0ee7d13-7913-4592-9cd6-13d3109d0b9b": {
       "attrs": {
        "height": 0.8,
        "width": 0.8,
        "x": 0.1,
        "y": 0.1
       },
       "content": {
        "cell": "d1076be0-ee95-4cd9-89b5-d9c7a16f2267",
        "part": "whole"
       },
       "id": "f0ee7d13-7913-4592-9cd6-13d3109d0b9b"
      }
     }
    },
    "a5f5dda4-dec2-46bb-be1a-94a9b38c0b45": {
     "id": "a5f5dda4-dec2-46bb-be1a-94a9b38c0b45",
     "prev": "10a8f9a1-3d9a-4a00-8c3d-cff5e1ee611f",
     "regions": {
      "48a4ec67-9f37-4ed0-a2fe-b15499c24bc4": {
       "attrs": {
        "height": 0.8,
        "width": 0.8,
        "x": 0.1,
        "y": 0.1
       },
       "content": {
        "cell": "aa413739-49f7-4b6b-a1cc-cbc46324a47d",
        "part": "whole"
       },
       "id": "48a4ec67-9f37-4ed0-a2fe-b15499c24bc4"
      }
     }
    },
    "a63105c7-28d1-491a-bd03-edd967a09b66": {
     "id": "a63105c7-28d1-491a-bd03-edd967a09b66",
     "prev": "e1f6c0d1-a0a2-4d59-b6fb-eb7b26a85448",
     "regions": {
      "70ceb1bd-ec2f-40c1-baf8-8e4b912816d5": {
       "attrs": {
        "height": 0.8,
        "width": 0.8,
        "x": 0.1,
        "y": 0.1
       },
       "content": {
        "cell": "a27f2c48-b06a-45c9-b3c3-54d6ab67e11a",
        "part": "whole"
       },
       "id": "70ceb1bd-ec2f-40c1-baf8-8e4b912816d5"
      }
     }
    },
    "a77a6950-697f-4d54-9196-0af3ef5005ba": {
     "id": "a77a6950-697f-4d54-9196-0af3ef5005ba",
     "prev": "08b971ef-9fe7-4ca3-8ca4-a24788769f30",
     "regions": {
      "0fb6e8f7-e10d-4aad-b855-ca7cca69efc7": {
       "attrs": {
        "height": 0.8,
        "width": 0.8,
        "x": 0.1,
        "y": 0.1
       },
       "content": {
        "cell": "5c014227-ade9-43f8-b30e-82f9a08dfc12",
        "part": "whole"
       },
       "id": "0fb6e8f7-e10d-4aad-b855-ca7cca69efc7"
      }
     }
    },
    "a77deb26-b532-4e55-9820-77553872d0dd": {
     "id": "a77deb26-b532-4e55-9820-77553872d0dd",
     "prev": "7018bec8-3150-400c-acc3-b25563c4b540",
     "regions": {
      "3da38c87-0f18-4c98-aa3c-4a023c2a3a5f": {
       "attrs": {
        "height": 0.8,
        "width": 0.8,
        "x": 0.1,
        "y": 0.1
       },
       "content": {
        "cell": "28c9ef49-9ede-40f8-8ad0-63d515e5a9e6",
        "part": "whole"
       },
       "id": "3da38c87-0f18-4c98-aa3c-4a023c2a3a5f"
      }
     }
    },
    "ae0acea4-05b7-47c0-acbd-963d7076469d": {
     "id": "ae0acea4-05b7-47c0-acbd-963d7076469d",
     "prev": "47d19658-cac9-4f2c-8572-f5666cf5edd9",
     "regions": {
      "afb52f9f-51a1-46de-b376-aa82581b5f09": {
       "attrs": {
        "height": 0.8,
        "width": 0.8,
        "x": 0.1,
        "y": 0.1
       },
       "content": {
        "cell": "43b6568a-443e-4111-9d82-e587b91904c5",
        "part": "whole"
       },
       "id": "afb52f9f-51a1-46de-b376-aa82581b5f09"
      }
     }
    },
    "aea16efe-7c90-42a2-8d4a-92bd466fcb90": {
     "id": "aea16efe-7c90-42a2-8d4a-92bd466fcb90",
     "prev": "3f466371-1e1e-45bf-aef0-a9162789275b",
     "regions": {
      "7b45bacb-4f65-4768-a21b-927e2e46e011": {
       "attrs": {
        "height": 0.8,
        "width": 0.8,
        "x": 0.1,
        "y": 0.1
       },
       "content": {
        "cell": "07ed31d3-7101-4d76-9854-c5aecd8df86f",
        "part": "whole"
       },
       "id": "7b45bacb-4f65-4768-a21b-927e2e46e011"
      }
     }
    },
    "afb04673-17d9-466c-b218-3ec6dea86baf": {
     "id": "afb04673-17d9-466c-b218-3ec6dea86baf",
     "prev": "d3b90df2-5399-4b99-9863-62ea83811207",
     "regions": {
      "4348ec83-2a42-46b5-95f0-3ff9e27cf62d": {
       "attrs": {
        "height": 0.8,
        "width": 0.8,
        "x": 0.1,
        "y": 0.1
       },
       "content": {
        "cell": "cde7c268-deb8-407f-815c-239c0e050ed4",
        "part": "whole"
       },
       "id": "4348ec83-2a42-46b5-95f0-3ff9e27cf62d"
      }
     }
    },
    "afcab110-9f44-49e5-85bb-c00906ff78af": {
     "id": "afcab110-9f44-49e5-85bb-c00906ff78af",
     "prev": "f4ebe44f-f0d1-43b9-b799-cae703a32517",
     "regions": {
      "13ebecbc-1a7e-4897-b68b-2a30f5378870": {
       "attrs": {
        "height": 0.8,
        "width": 0.8,
        "x": 0.1,
        "y": 0.1
       },
       "content": {
        "cell": "89eccca7-160b-448d-bb03-79b08b75084d",
        "part": "whole"
       },
       "id": "13ebecbc-1a7e-4897-b68b-2a30f5378870"
      }
     }
    },
    "b22b3cdf-96e3-48bd-a404-653ca8cbb97b": {
     "id": "b22b3cdf-96e3-48bd-a404-653ca8cbb97b",
     "prev": "5a554854-8723-4147-932b-78953f606c04",
     "regions": {
      "2dcd1055-8784-4999-a976-c644186691ef": {
       "attrs": {
        "height": 0.8,
        "width": 0.8,
        "x": 0.1,
        "y": 0.1
       },
       "content": {
        "cell": "479063d0-95b1-42e0-b75c-fc95d311f08f",
        "part": "whole"
       },
       "id": "2dcd1055-8784-4999-a976-c644186691ef"
      }
     }
    },
    "b3fa67d5-f80f-43ec-87cb-942fb88313e2": {
     "id": "b3fa67d5-f80f-43ec-87cb-942fb88313e2",
     "prev": "72a28a95-d6a2-4973-9ad0-2617dc136a58",
     "regions": {
      "3448b901-7bef-45a4-825e-8e324f9a87ff": {
       "attrs": {
        "height": 0.8,
        "width": 0.8,
        "x": 0.1,
        "y": 0.1
       },
       "content": {
        "cell": "3a73efb8-e225-4126-be89-5f7b3354b3fc",
        "part": "whole"
       },
       "id": "3448b901-7bef-45a4-825e-8e324f9a87ff"
      }
     }
    },
    "b4dc6777-7688-456b-89a2-32a10c83d7f0": {
     "id": "b4dc6777-7688-456b-89a2-32a10c83d7f0",
     "prev": "0283b465-0482-483b-972f-29d37d0dc5ec",
     "regions": {
      "20304cb0-a63d-486d-9402-8010eb0309fd": {
       "attrs": {
        "height": 0.8,
        "width": 0.8,
        "x": 0.1,
        "y": 0.1
       },
       "content": {
        "cell": "b1733c7e-76b3-489a-aa9d-efa9523dafce",
        "part": "whole"
       },
       "id": "20304cb0-a63d-486d-9402-8010eb0309fd"
      }
     }
    },
    "baba6113-6e91-4aed-9742-a385a25119c0": {
     "id": "baba6113-6e91-4aed-9742-a385a25119c0",
     "prev": "46d2ce59-2d50-480c-9325-7c6281415f95",
     "regions": {
      "1fade420-784a-46d8-98eb-abf25fedc115": {
       "attrs": {
        "height": 0.8,
        "width": 0.8,
        "x": 0.1,
        "y": 0.1
       },
       "content": {
        "cell": "86382211-97d9-41b2-8444-acfc4f223d61",
        "part": "whole"
       },
       "id": "1fade420-784a-46d8-98eb-abf25fedc115"
      }
     }
    },
    "bac5a9c1-1a15-423f-9e88-4dc93fb6a913": {
     "id": "bac5a9c1-1a15-423f-9e88-4dc93fb6a913",
     "prev": "5d9f96ae-341f-4f6a-b24a-d0089ef92d11",
     "regions": {
      "d0af6e10-8610-4d97-a49f-0e18a387527d": {
       "attrs": {
        "height": 0.8,
        "width": 0.8,
        "x": 0.1,
        "y": 0.1
       },
       "content": {
        "cell": "d476b86d-a2b5-42c6-bd44-a36290c4ac2f",
        "part": "whole"
       },
       "id": "d0af6e10-8610-4d97-a49f-0e18a387527d"
      }
     }
    },
    "bc527359-3552-4f6d-9d39-bd881c2b9d65": {
     "id": "bc527359-3552-4f6d-9d39-bd881c2b9d65",
     "prev": "96c674f6-6882-4e7c-b340-e1e8342856bb",
     "regions": {
      "c55a8b77-74b5-42f7-b197-5ad378f35760": {
       "attrs": {
        "height": 0.8,
        "width": 0.8,
        "x": 0.1,
        "y": 0.1
       },
       "content": {
        "cell": "2b2892b6-1c8f-4db0-a152-1093e1ac5f73",
        "part": "whole"
       },
       "id": "c55a8b77-74b5-42f7-b197-5ad378f35760"
      }
     }
    },
    "be1595f0-9111-4841-a679-ec83b0ebe50f": {
     "id": "be1595f0-9111-4841-a679-ec83b0ebe50f",
     "prev": "3d392acb-8081-4591-ae80-aa6ae28930b1",
     "regions": {
      "e41ac4f7-12bb-42ee-8836-80fc990d3412": {
       "attrs": {
        "height": 0.8,
        "width": 0.8,
        "x": 0.1,
        "y": 0.1
       },
       "content": {
        "cell": "11ddac9a-27df-48f9-ba21-23cdbf32a0e5",
        "part": "whole"
       },
       "id": "e41ac4f7-12bb-42ee-8836-80fc990d3412"
      }
     }
    },
    "c0f672e8-87df-4403-ac91-c559dbb03770": {
     "id": "c0f672e8-87df-4403-ac91-c559dbb03770",
     "prev": "5ec037e9-b17f-4111-adbe-e588470302b4",
     "regions": {
      "770b1696-c32a-4afc-975b-f2ee89ae6b2d": {
       "attrs": {
        "height": 0.8,
        "width": 0.8,
        "x": 0.1,
        "y": 0.1
       },
       "content": {
        "cell": "0400b1b0-7fbb-4dc5-93b3-8be02866f48b",
        "part": "whole"
       },
       "id": "770b1696-c32a-4afc-975b-f2ee89ae6b2d"
      }
     }
    },
    "c117733b-6a0d-4519-afe5-040258e4b7eb": {
     "id": "c117733b-6a0d-4519-afe5-040258e4b7eb",
     "prev": "7b96365e-5921-40db-bc24-ef8a9d0ade88",
     "regions": {
      "5fee4799-bccc-463d-8aea-ba0fdd35955e": {
       "attrs": {
        "height": 0.8,
        "width": 0.8,
        "x": 0.1,
        "y": 0.1
       },
       "content": {
        "cell": "e8f1855f-8add-4ae7-bd95-24eeac0e7fd1",
        "part": "whole"
       },
       "id": "5fee4799-bccc-463d-8aea-ba0fdd35955e"
      }
     }
    },
    "c54ea42e-c468-475e-bb54-dc86a2870943": {
     "id": "c54ea42e-c468-475e-bb54-dc86a2870943",
     "prev": "d64012b9-92ac-43b3-8404-e88fd987098b",
     "regions": {
      "0265f273-911e-4f4b-b060-256587b238dd": {
       "attrs": {
        "height": 0.8,
        "width": 0.8,
        "x": 0.1,
        "y": 0.1
       },
       "content": {
        "cell": "35402a13-bb6b-4f5d-b524-740d09814350",
        "part": "whole"
       },
       "id": "0265f273-911e-4f4b-b060-256587b238dd"
      }
     }
    },
    "c7918050-291f-46fd-a558-b89dcee3dbe3": {
     "id": "c7918050-291f-46fd-a558-b89dcee3dbe3",
     "prev": "9b6664a8-fb06-4aed-aefb-45c65637bda4",
     "regions": {
      "1e0478f5-e8be-460a-8460-41ccb16230d7": {
       "attrs": {
        "height": 0.8,
        "width": 0.8,
        "x": 0.1,
        "y": 0.1
       },
       "content": {
        "cell": "cd44f098-2319-4245-83c5-cd9cfc7c718a",
        "part": "whole"
       },
       "id": "1e0478f5-e8be-460a-8460-41ccb16230d7"
      }
     }
    },
    "c7c3219d-92e3-404b-9d62-62e4b6262fa2": {
     "id": "c7c3219d-92e3-404b-9d62-62e4b6262fa2",
     "prev": "d0542f25-998f-4603-8907-17fed5db265c",
     "regions": {
      "dab17e3c-7375-46ba-90c6-ab7cd2fc7b4d": {
       "attrs": {
        "height": 0.8,
        "width": 0.8,
        "x": 0.1,
        "y": 0.1
       },
       "content": {
        "cell": "25a74cef-a554-4cfc-9bae-e0929948b9ce",
        "part": "whole"
       },
       "id": "dab17e3c-7375-46ba-90c6-ab7cd2fc7b4d"
      }
     }
    },
    "c95cdbb3-38af-4d4f-b611-ace5c0f9583a": {
     "id": "c95cdbb3-38af-4d4f-b611-ace5c0f9583a",
     "prev": "d506ad8f-9fbb-4c46-84e3-15405f503795",
     "regions": {
      "e7e8c8ad-c285-47f0-8170-85a580b1aa72": {
       "attrs": {
        "height": 0.8,
        "width": 0.8,
        "x": 0.1,
        "y": 0.1
       },
       "content": {
        "cell": "c966292d-e283-4417-a2c6-63a409c8bef1",
        "part": "whole"
       },
       "id": "e7e8c8ad-c285-47f0-8170-85a580b1aa72"
      }
     }
    },
    "cdf8e4ec-c329-4126-9bff-47a74b1c038b": {
     "id": "cdf8e4ec-c329-4126-9bff-47a74b1c038b",
     "prev": "9d815d11-15e3-43e3-8e60-b4eeb2e95ec1",
     "regions": {
      "1b60a480-4f20-421c-9f30-27c44e5bb390": {
       "attrs": {
        "height": 0.8,
        "width": 0.8,
        "x": 0.1,
        "y": 0.1
       },
       "content": {
        "cell": "5f13c342-5f1d-4cd2-a39c-e67e6b1c5bf7",
        "part": "whole"
       },
       "id": "1b60a480-4f20-421c-9f30-27c44e5bb390"
      }
     }
    },
    "d0542f25-998f-4603-8907-17fed5db265c": {
     "id": "d0542f25-998f-4603-8907-17fed5db265c",
     "prev": "6add3ec4-95b4-4ee1-90d1-f38eacd0f5ee",
     "regions": {
      "26bc051f-d5b2-4426-a2c1-6da8d80f82f7": {
       "attrs": {
        "height": 0.8,
        "width": 0.8,
        "x": 0.1,
        "y": 0.1
       },
       "content": {
        "cell": "9590e028-9f56-441b-bdbe-e317fac066e3",
        "part": "whole"
       },
       "id": "26bc051f-d5b2-4426-a2c1-6da8d80f82f7"
      }
     }
    },
    "d2fd73bb-1d74-4281-8d5d-85b5b38930d4": {
     "id": "d2fd73bb-1d74-4281-8d5d-85b5b38930d4",
     "prev": "505039b4-158d-4461-9b60-0887989e5f5a",
     "regions": {
      "86d5de54-e5fe-466e-94d3-2cf41528e147": {
       "attrs": {
        "height": 0.8,
        "width": 0.8,
        "x": 0.1,
        "y": 0.1
       },
       "content": {
        "cell": "b5bf0b86-9d3e-4846-9a29-4028e6419360",
        "part": "whole"
       },
       "id": "86d5de54-e5fe-466e-94d3-2cf41528e147"
      }
     }
    },
    "d3507c13-e07d-4abe-af24-323d340726cb": {
     "id": "d3507c13-e07d-4abe-af24-323d340726cb",
     "prev": "5759daab-4d12-4c36-8e37-fff54d170110",
     "regions": {
      "c7b9983d-8ca0-46ce-a4f5-a9b291d5987d": {
       "attrs": {
        "height": 0.8,
        "width": 0.8,
        "x": 0.1,
        "y": 0.1
       },
       "content": {
        "cell": "10466578-87e0-40c2-b8bc-c081c10c4acd",
        "part": "whole"
       },
       "id": "c7b9983d-8ca0-46ce-a4f5-a9b291d5987d"
      }
     }
    },
    "d3628273-1318-444c-8fca-10e42223e2b7": {
     "id": "d3628273-1318-444c-8fca-10e42223e2b7",
     "prev": "c95cdbb3-38af-4d4f-b611-ace5c0f9583a",
     "regions": {
      "3cbdf435-212a-4516-bfa0-97badcd6c3a8": {
       "attrs": {
        "height": 0.8,
        "width": 0.8,
        "x": 0.1,
        "y": 0.1
       },
       "content": {
        "cell": "80cac1a2-917d-44df-af9a-a0a2a6270a2a",
        "part": "whole"
       },
       "id": "3cbdf435-212a-4516-bfa0-97badcd6c3a8"
      }
     }
    },
    "d3b90df2-5399-4b99-9863-62ea83811207": {
     "id": "d3b90df2-5399-4b99-9863-62ea83811207",
     "prev": "23f086df-18b9-4011-8f15-77b8624a42e8",
     "regions": {
      "0d1914f3-99f0-440d-89f5-44f5863f4e49": {
       "attrs": {
        "height": 0.8,
        "width": 0.8,
        "x": 0.1,
        "y": 0.1
       },
       "content": {
        "cell": "9483a2be-a641-4e28-993c-96901c590caa",
        "part": "whole"
       },
       "id": "0d1914f3-99f0-440d-89f5-44f5863f4e49"
      }
     }
    },
    "d506ad8f-9fbb-4c46-84e3-15405f503795": {
     "id": "d506ad8f-9fbb-4c46-84e3-15405f503795",
     "prev": "4b517487-ebbf-47ee-aa25-0cf1dc3a90d5",
     "regions": {
      "528bbc78-d52f-4daf-89ed-8f8708981149": {
       "attrs": {
        "height": 0.8,
        "width": 0.8,
        "x": 0.1,
        "y": 0.1
       },
       "content": {
        "cell": "b99ad5f8-cd31-4f22-9896-c2ebc9d91ef7",
        "part": "whole"
       },
       "id": "528bbc78-d52f-4daf-89ed-8f8708981149"
      }
     }
    },
    "d64012b9-92ac-43b3-8404-e88fd987098b": {
     "id": "d64012b9-92ac-43b3-8404-e88fd987098b",
     "prev": "3db39846-0b06-4e2c-84bd-718e3982f0b4",
     "regions": {
      "e3ed95f2-c61f-4c26-b7dd-6e81954dcefc": {
       "attrs": {
        "height": 0.8,
        "width": 0.8,
        "x": 0.1,
        "y": 0.1
       },
       "content": {
        "cell": "813aa157-7282-4a2e-ab53-4dbe5522ace2",
        "part": "whole"
       },
       "id": "e3ed95f2-c61f-4c26-b7dd-6e81954dcefc"
      }
     }
    },
    "dd13dcc9-c5b0-4e83-ad46-a524b2da312a": {
     "id": "dd13dcc9-c5b0-4e83-ad46-a524b2da312a",
     "prev": "5d101ec4-bdcc-4945-a113-3965164b9225",
     "regions": {
      "7b568649-894a-4ff2-9ca7-9cbbde53994c": {
       "attrs": {
        "height": 0.8,
        "width": 0.8,
        "x": 0.1,
        "y": 0.1
       },
       "content": {
        "cell": "34f032c0-0d64-431f-9874-87e9632fb3cf",
        "part": "whole"
       },
       "id": "7b568649-894a-4ff2-9ca7-9cbbde53994c"
      }
     }
    },
    "e1f6c0d1-a0a2-4d59-b6fb-eb7b26a85448": {
     "id": "e1f6c0d1-a0a2-4d59-b6fb-eb7b26a85448",
     "prev": "574cd51d-08ec-4e4d-b07d-3d9f0f1fe2de",
     "regions": {
      "b70faa53-5103-4f89-a8ff-736f81d51d7c": {
       "attrs": {
        "height": 0.8,
        "width": 0.8,
        "x": 0.1,
        "y": 0.1
       },
       "content": {
        "cell": "debbc651-a5b1-46d0-9afd-ce6e9e13abea",
        "part": "whole"
       },
       "id": "b70faa53-5103-4f89-a8ff-736f81d51d7c"
      }
     }
    },
    "f4ebe44f-f0d1-43b9-b799-cae703a32517": {
     "id": "f4ebe44f-f0d1-43b9-b799-cae703a32517",
     "prev": "bc527359-3552-4f6d-9d39-bd881c2b9d65",
     "regions": {
      "237e8868-1361-4086-b1f1-d79e7cb02a7b": {
       "attrs": {
        "height": 0.8,
        "width": 0.8,
        "x": 0.1,
        "y": 0.1
       },
       "content": {
        "cell": "e3e17b25-3189-432a-8c16-70ef90fc8598",
        "part": "whole"
       },
       "id": "237e8868-1361-4086-b1f1-d79e7cb02a7b"
      }
     }
    },
    "f54972ef-af5c-45f0-b490-c1b9669724f9": {
     "id": "f54972ef-af5c-45f0-b490-c1b9669724f9",
     "prev": "301ef908-106d-4367-af07-a0fa925c7426",
     "regions": {
      "c5d4f26f-648d-4814-97d9-bccfd3d704c2": {
       "attrs": {
        "height": 0.8,
        "width": 0.8,
        "x": 0.1,
        "y": 0.1
       },
       "content": {
        "cell": "d0a68ae6-ac71-4fa5-90e1-99faea02ea14",
        "part": "whole"
       },
       "id": "c5d4f26f-648d-4814-97d9-bccfd3d704c2"
      }
     }
    },
    "f9af04b5-a973-433b-8a1f-3cf86cafa2b1": {
     "id": "f9af04b5-a973-433b-8a1f-3cf86cafa2b1",
     "prev": "a0f32018-0131-4b4d-a8a9-7acf5ac6c6dc",
     "regions": {
      "e63a23d8-f03b-483f-b2b2-1fa2f4e49441": {
       "attrs": {
        "height": 0.8,
        "width": 0.8,
        "x": 0.1,
        "y": 0.1
       },
       "content": {
        "cell": "b48def88-6d44-4d35-bce8-e0b982b862f2",
        "part": "whole"
       },
       "id": "e63a23d8-f03b-483f-b2b2-1fa2f4e49441"
      }
     }
    },
    "fe030e44-26bd-4af8-ac3a-c5dc243d5192": {
     "id": "fe030e44-26bd-4af8-ac3a-c5dc243d5192",
     "prev": "ae0acea4-05b7-47c0-acbd-963d7076469d",
     "regions": {
      "79d0951d-09f9-4f98-89c5-874dcb03c971": {
       "attrs": {
        "height": 0.8,
        "width": 0.8,
        "x": 0.1,
        "y": 0.1
       },
       "content": {
        "cell": "564cd3f0-920d-42ec-8463-665f13808dc9",
        "part": "whole"
       },
       "id": "79d0951d-09f9-4f98-89c5-874dcb03c971"
      }
     }
    }
   },
   "themes": {}
  }
 },
 "nbformat": 4,
 "nbformat_minor": 1
}
